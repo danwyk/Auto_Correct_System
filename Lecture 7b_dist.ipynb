{
  "nbformat": 4,
  "nbformat_minor": 0,
  "metadata": {
    "colab": {
      "provenance": []
    },
    "kernelspec": {
      "name": "python3",
      "display_name": "Python 3"
    },
    "language_info": {
      "name": "python"
    }
  },
  "cells": [
    {
      "cell_type": "code",
      "source": [
        "# LOAD THE FILES FOR THIS NOTEBOOK\n",
        "!wget -q --show-progress --no-check-certificate 'https://docs.google.com/uc?export=download&id=1SObn6N0Ed5vPrH5yOQUsfVvEnAQmoD2m' -O 'Class 7.zip'\n",
        "from zipfile import ZipFile\n",
        "with ZipFile('Class 7.zip', 'r') as zipObj:\n",
        "  zipObj.extractall()"
      ],
      "metadata": {
        "colab": {
          "base_uri": "https://localhost:8080/"
        },
        "id": "chC3laFAPVCY",
        "outputId": "9ec39a4e-0e81-4f2f-d6e6-0543b96875d3"
      },
      "execution_count": null,
      "outputs": [
        {
          "output_type": "stream",
          "name": "stdout",
          "text": [
            "\rClass 7.zip           0%[                    ]       0  --.-KB/s               \rClass 7.zip         100%[===================>] 990.68K  --.-KB/s    in 0.007s  \n"
          ]
        }
      ]
    },
    {
      "cell_type": "markdown",
      "source": [
        "<b>LING 193 - Lecture 7<br>\n",
        "Intro to Python I - Practice activities</b><br>\n",
        "Andrew McInnerney<br>\n",
        "September 21, 2022\n",
        "\n",
        "# 1 Average word length\n",
        "This Colab notebook outlines several tasks you can take on to practice basic Python skills. \n",
        "\n",
        "The first task is to calculate the average length of words in English. You can do this by applying the skills you've learned so far to a list of English words.\n",
        "\n",
        "## 1.1 Reading in the word list\n",
        "The first step is to get a representative list of English words. We will use a free Scrabble dictionary for this. Run the code block below to store the dictionary as list called `dictionary`, that looks like this:<br>\n",
        "&emsp; `['AA', 'AAH', 'AAHED', ..., 'ZYZZYVAS', 'ZZZ', 'ZZZS']`\n"
      ],
      "metadata": {
        "id": "u8hvEw1y4GVd"
      }
    },
    {
      "cell_type": "code",
      "source": [
        "with open(\"Collins Scrabble Words (2019).txt\") as file:\n",
        "    dictionary = file.read().splitlines()"
      ],
      "metadata": {
        "id": "FT2BaH9Ug3C0"
      },
      "execution_count": null,
      "outputs": []
    },
    {
      "cell_type": "markdown",
      "source": [
        "Familiarize yourself with this list by writing code to check<br>\n",
        "&emsp;(i) How many words there are in this dictionary<br>\n",
        "&emsp;(ii) What the first word is<br>\n",
        "&emsp;(iii) What the last word is<br>\n",
        "&emsp;(iv) A word or two from the middle of the list\n",
        "\n",
        "You can use the code block below."
      ],
      "metadata": {
        "id": "JdiI2l-FqblC"
      }
    },
    {
      "cell_type": "code",
      "source": [],
      "metadata": {
        "id": "YpUSjs1naJRm"
      },
      "execution_count": null,
      "outputs": []
    },
    {
      "cell_type": "markdown",
      "source": [
        "## 1.2 Calculate the average length of words in a list\n",
        "The <i>mean</i> or <i>average</i> of a set of numbers N is the sum n<sub>1</sub>+n<sub>2</sub>+... for all n<sub>i</sub> in N, divided by the size of N.<br>\n",
        "Let's break this problem down into simpler sub-problems. \n",
        "1. First, create an empty list `[]`. Give it a name like `lengths`.\n",
        "  * Try adding a word's length to this list using `len()` and the `.append()` method. You could add the number `1` to `lengths` by typing `lengths.append(1)`, for instance. Or the length of the word `'CAT'` by typing `lengths.append(len('CAT'))`. \n",
        "    * (You might want to print out the updated list to check your work)\n"
      ],
      "metadata": {
        "id": "CMsxqhXsaH4K"
      }
    },
    {
      "cell_type": "code",
      "source": [],
      "metadata": {
        "id": "Nfi_GlgVHPqR"
      },
      "execution_count": null,
      "outputs": []
    },
    {
      "cell_type": "markdown",
      "source": [
        "2. Next, we're going to calculate the length of each word. Let's first try this with a smaller list.\n",
        "  - Run the code block below\n",
        "\n"
      ],
      "metadata": {
        "id": "QZB6grqYHQRH"
      }
    },
    {
      "cell_type": "code",
      "source": [
        "lengths = [] # This resets the 'lengths' list, so it's empty again\n",
        "minidict = [\"APPLE\", \"KUMQUAT\", \"ORANGE\", \"PEAR\"] # This creates a mini dictionary we can use"
      ],
      "metadata": {
        "id": "EE6BY7qbHjLT"
      },
      "execution_count": null,
      "outputs": []
    },
    {
      "cell_type": "markdown",
      "source": [
        "-  \n",
        "  - Create a variable called `word`\n",
        "  - Set `word` equal to the first item in `minidict` (use `minidict[0]`)\n",
        "  - Then add that word's length to the `lengths` list\n",
        "    - remember: you can calculate a string's length using the `len()` function. You might want to create a variable to store this number, e.g. `wordlength = len(word)`\n",
        "    - remember: you can use `.append()` to add something to a list.\n"
      ],
      "metadata": {
        "id": "5I4UoyUjHnvq"
      }
    },
    {
      "cell_type": "code",
      "source": [],
      "metadata": {
        "id": "vJE8Iu_GJUQX"
      },
      "execution_count": null,
      "outputs": []
    },
    {
      "cell_type": "markdown",
      "source": [
        "- \n",
        "  - Now, copy the code you wrote above into the code block below, but replace `minidict[0]` with `minidict[1]`. What will be different if you run this code now?"
      ],
      "metadata": {
        "id": "CQoD4IzKJXH_"
      }
    },
    {
      "cell_type": "code",
      "source": [],
      "metadata": {
        "id": "xsR1_vAuJpbM"
      },
      "execution_count": null,
      "outputs": []
    },
    {
      "cell_type": "markdown",
      "source": [
        "- \n",
        "  - Do the same for the *third* and *fourth* words in `minidict` \n",
        "    - i.e. set `word` equal to `minidict[2]`, run the code\n",
        "    - then set `word` equal to `minidict[3]`, and run the code again."
      ],
      "metadata": {
        "id": "mEq-goPrJzmS"
      }
    },
    {
      "cell_type": "code",
      "source": [],
      "metadata": {
        "id": "-cxP0vVVKL59"
      },
      "execution_count": null,
      "outputs": []
    },
    {
      "cell_type": "markdown",
      "source": [
        "- \n",
        "  - You should now have a list `lengths` that has the length of each word in `minidict` in it. \n",
        "    - Because you calculated and added the length of the first word first, the first item in `lengths` will be the length of that word (which is 5). \n",
        "    - The *second* item in `lengths` will be the length of the *second* word in `minidict`, etc."
      ],
      "metadata": {
        "id": "g4b3mM9aKMS8"
      }
    },
    {
      "cell_type": "markdown",
      "source": [
        "3. In step 2 above, you calculated the length of each word individually. Now, let's try making a *for*-loop that does the same thing automatically.\n",
        "    - In plain English, what we want the loop to do is this:\n",
        "    - For each word in `minidict`, calculate the length of that word, and then add that length to the list `lengths`.\n",
        "    - In the code block below:\n",
        "\n",
        "    3.1. Reset the `lengths` list by writing `lengths = []` again.<br>\n",
        "    3.2. Then write the *for*-loop. The first line of the *for*-loop should say `for word in minidict:`<br>\n",
        "    3.3. This uses the variable `word` to refer to each of the items in the `minidict` list. <br>\n",
        "    3.4. For the first run through the loop, `word` is going to be `'APPLE'`. So let's write the inner part of the *for*-loop with that in mind.<br>\n",
        "    3.5. We want to calculate the length of `'APPLE'` and then add that length to the dictionary. You already wrote the code to do that above, so simply make that the inner part of the *for*-loop.\n",
        "    - Create a variable `wordlengths` equal to the length of `word` (which is `'APPLE'` in the first run through)\n",
        "    - Then use `.append()` to add that number to the `lengths` list."
      ],
      "metadata": {
        "id": "fY8g_yM9LdVP"
      }
    },
    {
      "cell_type": "code",
      "source": [],
      "metadata": {
        "id": "0cPK-2PTNT6u"
      },
      "execution_count": null,
      "outputs": []
    },
    {
      "cell_type": "markdown",
      "source": [
        "When you run the code, it will give you a list of the lengths of each word in the `minidict` list, not just the length of `'APPLE'`. That's because the *for*-loop repeats the same action for each item in `minidict`, setting `word` equal to each successive item in the list.\n",
        "\n",
        "To calculate the *average* length of words in the list, we need to divide the *sum* of all the lengths, by the number of different words in the list.\n",
        "  - You can calculate the sum by using the `sum()` function like this: `sum(lengths)`. Store that value as a variable (e.g. `total = sum(lengths)`)\n",
        "  - Obviously, the number of words in `minidict` is `4`. But it will be useful to calculate that number with `len()`. Create a variable that stores `len(minidict)`; I would call my variable `size`.\n",
        "\n",
        "Use the code block below to calculate the average word length by dividing `total` by `size` (the 'division sign' in Python is `/`):"
      ],
      "metadata": {
        "id": "P_PbabqNOJrj"
      }
    },
    {
      "cell_type": "code",
      "source": [],
      "metadata": {
        "id": "TbogsdvpPSYe"
      },
      "execution_count": null,
      "outputs": []
    },
    {
      "cell_type": "markdown",
      "source": [
        "## 1.3 Calculating the average length of words in the Scrabble dictionary\n",
        "You now have all the tools you need to calculate the average length of words in our large Scrabble dictionary. Your code should look pretty much the same as in section 1.2, except that `dictionary` (the variable name we're using to refer to the Scrabble dictionary) replaces `minidict`.\n",
        "1. Create an empty list called `lengths`\n",
        "2. Write a *for*-loop that iterates over each word in `dictionary`\n",
        "  - The first line of the loop should be something like `for word in dictionary:`\n",
        "  - Within the loop (i.e. within the indented portion), \n",
        "    - Create a variable `wordlength` that calculates the length of each word\n",
        "    - Then use the `.append()` method to add that value to the `lengths` list\n",
        "  - By the time the loop gets through each item in `dictionary`, the `lengths` list should contain the lengths for every word.\n",
        "3. Outside the loop (i.e. outside the indentation for the loop), create a variable `total` that calculates the sum of `lengths`\n",
        "4. Then create a variable `size` that calculates the number of words in the dictionary.\n",
        "5. Finally, calculate the average word length!"
      ],
      "metadata": {
        "id": "2QMrIQK9Pvd0"
      }
    },
    {
      "cell_type": "code",
      "source": [],
      "metadata": {
        "id": "yoQA9l58aDf2"
      },
      "execution_count": null,
      "outputs": []
    },
    {
      "cell_type": "markdown",
      "source": [
        "# 2 Letter frequency\n",
        "The next task is to figure out how many words each letter occurs in. For example, how many words in the dictionary contain the letter 'e'? How many contain the letter 'x'? And so on.\n",
        "\n",
        "To calculate this, it's helpful to have a variable containing all the letters of the alphabet. To get that, run the code block below."
      ],
      "metadata": {
        "id": "UrLOYK1ggz2D"
      }
    },
    {
      "cell_type": "code",
      "source": [
        "alphabet = \"ABCDEFGHIJKLMNOPQRSTUVWXYZ\""
      ],
      "metadata": {
        "id": "pxeqZOB7g2D0"
      },
      "execution_count": null,
      "outputs": []
    },
    {
      "cell_type": "markdown",
      "source": [
        "To figure out how common each letter is, we're going to need to use a <i>for</i>-loop within a <i>for</i>-loop. \n",
        "\n",
        "## 2.1 Calculating the frequency of a single letter\n",
        "We can make the inner loop first, and then build on top of it. The inner loop calculates the frequency of just one letter. To do that,\n",
        "1. First, define a variable `letter`. Set it equal to one of the letters in the alphabet, in uppercase. E.g. `letter = 'A'`.\n",
        "2. Then, create a 'counting' or 'tallying' variable, set equal to `0`. E.g., you might write `frequency = 0`.\n",
        "3. Then, we're going to use a <i>for</i>-loop to update the counter. Write a <i>for</i>-loop that iterates over the Scrabble dictionary (which, remember, is a <i>list</i> called `dictionary` here!). Within the loop, check to see if the given word contains `letter` using `in`. If it does, increment your counter by `1` using `+=`. (E.g., you might write `frequency += 0`)\n",
        "  - The first line of the *for*-loop should say something like `for word in dictionary:`\n",
        "  - Within the loop (i.e. within the indented portion), write an *if*-statement to see if a given word contains `letter`.\n",
        "    - The *if* line should say something like `if letter in word:`\n",
        "    - Then within the indentation for `if`, increment the counter (`frequency += 1`)\n",
        "4. Print out the frequency to see how many words your letter occurs in.\n"
      ],
      "metadata": {
        "id": "pysqKOsxa0YM"
      }
    },
    {
      "cell_type": "code",
      "source": [],
      "metadata": {
        "id": "kNnMtk87ryy9"
      },
      "execution_count": null,
      "outputs": []
    },
    {
      "cell_type": "markdown",
      "source": [
        "## 2.2 Calculating the frequency of all 26 letters\n",
        "Now that we can calculate the frequency of just one letter at a time, we can embed that code under a bigger <i>for</i>-loop to get the frequency of <i>all</i> the letters. \n",
        "1. Define a string that contains all the letters of the alphabet, like this:<br>`alphabet = 'ABCDEFGHIJKLMNOPQRSTUVWXYZ'`\n",
        "2. Define an empty list, e.g. `frequencies = []`. We will update this to store the frequencies for each letter.\n",
        "3. Write a <i>for</i>-loop that calculates the frequency of each letter, and adds it to the `frequencies` list.\n",
        "  - The loop should iterate over each letter in the alphabet string `alphabet`. Use the label `letter` for the variable.\n",
        "  - Inside the loop, you want to duplicate what you did in part 2.1 above.  \n",
        "    - NOTE: In 2.1, the first thing you did was define the variable `letter` as one of the letters in the alphabet. Now, `letter` is defined as part of the outer *for*-loop! \n",
        "  - First, create a 'counter' variable set equal to `0`. \n",
        "  - Then, copy your <i>for</i>-loop from part 2.1; you want to iterate over each word in the Scrabble dictionary `dictionary`, and increment your counter variable if a given word contains a given letter.\n",
        "  - The last step in the (outer!) loop is to add the frequency for a given letter to the `frequencies` list.\n",
        "\n",
        "Once you've done that, you'll have a list that contains the frequency of each letter. The first item in the list should be the frequency of the first letter in the alphabet, the second item in the list should be te frequency of the second letter in the alphabet, and so on."
      ],
      "metadata": {
        "id": "7NMGj5kzruUJ"
      }
    },
    {
      "cell_type": "code",
      "source": [],
      "metadata": {
        "id": "9Et5VNXdrtMQ"
      },
      "execution_count": null,
      "outputs": []
    },
    {
      "cell_type": "markdown",
      "source": [
        "\n",
        "## 2.3 Linking each letter with its frequency\n",
        "A useful follow-up task is to find a way to print out each letter and its frequency together. For example, you'd want to print out something that looks like this:\n",
        "```\n",
        "A occurs in 153596 English words\n",
        "B occurs in 43508 English words\n",
        "C occurs in 87959 English words\n",
        "...\n",
        "Z occurs in 11401 English words\n",
        "```\n",
        "One way to do that is to write a <i>for</i>-loop that iterates over the <i>number of letters</i> in the alphabet. E.g., you could start the loop like this:\n",
        "```\n",
        "for i in range(len(alphabet)):\n",
        "```\n",
        "What would you write within the loop to print out each letter with its corresponding frequency?"
      ],
      "metadata": {
        "id": "dFOVhsJWrnnw"
      }
    },
    {
      "cell_type": "code",
      "source": [],
      "metadata": {
        "id": "7DQzPxrVrm4m"
      },
      "execution_count": null,
      "outputs": []
    },
    {
      "cell_type": "markdown",
      "source": [
        "# 3 Ranking letters by frequency\n",
        "Knowing how frequent each letter is could be useful in a range of contexts. For example, maybe you want to know which letter is the optimal first guess in a game of \"hangman.\"\n",
        "\n",
        "But, this information is most helpful if you can <i>rank</i> the letters, starting with either the most common or the least common, and ascending/descending from there. See if you can find a way of doing that with the list you created in part 2.\n",
        "\n",
        ">NOTE: This can be tricky if it's your first time doing this kind of thing. One approach you might take is to first make a new list that pairs each letter and its frequency together, like this:\n",
        "```\n",
        "letters = []\n",
        "for i in range(len(alphabet)):\n",
        "    letters.append([alphabet[i],frequencies[i]])\n",
        "``` \n",
        "And then try to use the information in <i>that</i> list to make a <i>new</i> list in the right order."
      ],
      "metadata": {
        "id": "VASNxbLtg3nh"
      }
    },
    {
      "cell_type": "code",
      "source": [],
      "metadata": {
        "id": "8VtKRdUKg7uq"
      },
      "execution_count": null,
      "outputs": []
    },
    {
      "cell_type": "markdown",
      "source": [
        "Also,\n",
        ">NOTE 2: The `sorted()` function makes this pretty easy (e.g. `sorted(letters, key=lambda x:x[1])`. If you already know how to use `sorted()`, see if you can do it without that."
      ],
      "metadata": {
        "id": "aVy1iqanwcmm"
      }
    },
    {
      "cell_type": "markdown",
      "source": [
        "# 4 Advanced practice\n",
        "\n",
        "The `COCAfreq.txt` file contains frequency information for the most common 5050 English words. Use the `COCAfreq.txt` file to repeat the three tasks above. Then, compare the results using the words of an actual corpus vs. a Scrabble dictionary."
      ],
      "metadata": {
        "id": "P35pWO6Tg81p"
      }
    },
    {
      "cell_type": "code",
      "source": [],
      "metadata": {
        "id": "bhk5-YpxhZ5N"
      },
      "execution_count": null,
      "outputs": []
    }
  ]
}