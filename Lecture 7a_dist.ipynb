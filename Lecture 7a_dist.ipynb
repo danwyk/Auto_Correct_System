{
  "nbformat": 4,
  "nbformat_minor": 0,
  "metadata": {
    "colab": {
      "provenance": []
    },
    "kernelspec": {
      "name": "python3",
      "display_name": "Python 3"
    },
    "language_info": {
      "name": "python"
    }
  },
  "cells": [
    {
      "cell_type": "markdown",
      "source": [
        "<b>LING 193 - Lecture 7<br>\n",
        "Intro to Python I</b><br>\n",
        "Andrew McInnerney<br>\n",
        "September 21, 2022\n",
        "\n",
        "# 1 Variables\n",
        "\n",
        "Variable-assignment has some rules.\n",
        "\n",
        "First, an assignment is always a variable name, then '=', then a value"
      ],
      "metadata": {
        "id": "u8hvEw1y4GVd"
      }
    },
    {
      "cell_type": "code",
      "source": [
        "mynumber = 1"
      ],
      "metadata": {
        "id": "4V6u5NlQ5dKl"
      },
      "execution_count": null,
      "outputs": []
    },
    {
      "cell_type": "code",
      "source": [
        "1 = mynumber"
      ],
      "metadata": {
        "id": "DBtlHask5rX6"
      },
      "execution_count": null,
      "outputs": []
    },
    {
      "cell_type": "markdown",
      "source": [
        "Also, the only characters you can use are a-z, 0-9, and underscore.<br>\n",
        "So no spaces, no quotes, no hyphens, etc."
      ],
      "metadata": {
        "id": "1IcsdJZT5gML"
      }
    },
    {
      "cell_type": "code",
      "execution_count": null,
      "metadata": {
        "id": "cDnO13kv316z"
      },
      "outputs": [],
      "source": [
        "my number = 1\n",
        "print(my_number)  "
      ]
    },
    {
      "cell_type": "code",
      "source": [
        "my-number = 1\n",
        "print(my_number) "
      ],
      "metadata": {
        "id": "qRda2nQr6Act"
      },
      "execution_count": null,
      "outputs": []
    },
    {
      "cell_type": "code",
      "source": [
        "my \"number\" = 1\n",
        "print(my_number) "
      ],
      "metadata": {
        "id": "AnJuNp3T6ADj"
      },
      "execution_count": null,
      "outputs": []
    },
    {
      "cell_type": "code",
      "source": [
        "my_number = 1\n",
        "print(my_number) "
      ],
      "metadata": {
        "id": "G3Deqt3H5_0C"
      },
      "execution_count": null,
      "outputs": []
    },
    {
      "cell_type": "markdown",
      "source": [
        "<b>NOTE</b>: I'm using `print()` every time I want Python to spit something out. You don't don't actually always have to do this, but I don't want us to have to worry about when you do or don't need to use `print()`. So, for this class, we're just going to use `print()` any time we want Python to give us an output.\n",
        "\n",
        "Names are also case sensitive:\n",
        "\n",
        "\n"
      ],
      "metadata": {
        "id": "O8IE4yqz57qB"
      }
    },
    {
      "cell_type": "code",
      "source": [
        "my_Number = 2\n",
        "print(my_number)\n",
        "print(my_Number)"
      ],
      "metadata": {
        "id": "QW3TZx2b6gTb"
      },
      "execution_count": null,
      "outputs": []
    },
    {
      "cell_type": "markdown",
      "source": [
        "A variable name can have a number in it, but it can't start with a number.\n",
        "\n"
      ],
      "metadata": {
        "id": "y3ONO6Nr6gyy"
      }
    },
    {
      "cell_type": "code",
      "source": [
        "number20 = 1\n",
        "print(number20)"
      ],
      "metadata": {
        "id": "CiDO-_zf6yI-"
      },
      "execution_count": null,
      "outputs": []
    },
    {
      "cell_type": "code",
      "source": [
        "2number0 = 1\n",
        "print(2number0)"
      ],
      "metadata": {
        "id": "HTt_EwY765A8"
      },
      "execution_count": null,
      "outputs": []
    },
    {
      "cell_type": "markdown",
      "source": [
        "Variables can only mean one thing at a time and you can change them:"
      ],
      "metadata": {
        "id": "ZDiWPdfp6yj0"
      }
    },
    {
      "cell_type": "code",
      "source": [
        "my_number = 3\n",
        "print(my_number)\n",
        "\n",
        "my_number = 2000\n",
        "print(my_number)"
      ],
      "metadata": {
        "id": "dfi_ksC47GDw"
      },
      "execution_count": null,
      "outputs": []
    },
    {
      "cell_type": "markdown",
      "source": [
        "<b>Practice:</b>\n",
        "\n",
        "Pick a value, like `3`, `50`, `1004`, or anything else you want.<br>\n",
        "Write a print statement that prints out that value.<br>\n",
        "Type your code in the block below, and run it.\n",
        "\n",
        "Then, in the same code block, create a variable with any name you want, and give it the value you picked before.<br>\n",
        "Write a print statement that prints the variable. Run the code block.\n",
        "\n",
        "Finally, change the value of your variable to a different number.<br>\n",
        "Write two print statements, one that prints the original value, and one that prints the variable. "
      ],
      "metadata": {
        "id": "2RgBm62pwZF_"
      }
    },
    {
      "cell_type": "code",
      "source": [],
      "metadata": {
        "id": "cS2KX6hkxT82"
      },
      "execution_count": null,
      "outputs": []
    },
    {
      "cell_type": "markdown",
      "source": [
        "# 2 Numbers\n",
        "Numbers in Python are mostly straightforward.<br>\n",
        "There are just a couple of notes to make.\n",
        "\n",
        "You can't use commas:\n"
      ],
      "metadata": {
        "id": "GcKzYaUX5xXK"
      }
    },
    {
      "cell_type": "code",
      "source": [
        "print(1000000)"
      ],
      "metadata": {
        "id": "_38hM9tW7T2t"
      },
      "execution_count": null,
      "outputs": []
    },
    {
      "cell_type": "code",
      "source": [
        "print(1,000,000)"
      ],
      "metadata": {
        "id": "soKUHOOx7uFC"
      },
      "execution_count": null,
      "outputs": []
    },
    {
      "cell_type": "markdown",
      "source": [
        "You can add (+), subtract (-), multiply (*), and divide (/):"
      ],
      "metadata": {
        "id": "NtFhkTP17xC9"
      }
    },
    {
      "cell_type": "code",
      "source": [
        "print(10+5)\n",
        "print(10-5)\n",
        "print(10*5)\n",
        "print(10/5) # Note that division returns a float\n",
        "# Also, if you want exponents, use **. E.g., 2**3 returns 8."
      ],
      "metadata": {
        "id": "85el2j6i73zd"
      },
      "execution_count": null,
      "outputs": []
    },
    {
      "cell_type": "markdown",
      "source": [
        "The arithmetical operations give us a good opportunity to clarify how Python handles functions/operations. When you give Python \"something + something,\" it's going to compute that. So if you give Python 1 + 2, it treats that as 3.\n",
        "\n",
        "### Practice using variables:"
      ],
      "metadata": {
        "id": "mHrfa9s68Eog"
      }
    },
    {
      "cell_type": "code",
      "source": [
        "x = 1\n",
        "y = 2\n",
        "z = x+y"
      ],
      "metadata": {
        "id": "otJN5uuZ-bZD"
      },
      "execution_count": null,
      "outputs": []
    },
    {
      "cell_type": "markdown",
      "source": [
        "What will `print(z)` give us?"
      ],
      "metadata": {
        "id": "6tXXGZLY-kwC"
      }
    },
    {
      "cell_type": "code",
      "source": [
        "print(z)"
      ],
      "metadata": {
        "id": "0z5i8F9s-oPs"
      },
      "execution_count": null,
      "outputs": []
    },
    {
      "cell_type": "markdown",
      "source": [
        "What will `print(y-x)` give us?"
      ],
      "metadata": {
        "id": "pAggqJxe-o2f"
      }
    },
    {
      "cell_type": "code",
      "source": [
        "print(y-x)"
      ],
      "metadata": {
        "id": "ZppgdNbS-pSm"
      },
      "execution_count": null,
      "outputs": []
    },
    {
      "cell_type": "markdown",
      "source": [
        "Consider this command:\n",
        "```\n",
        "[ ]  print(z-x)\n",
        "     2\n",
        "```\n",
        "Why does it give us `2`?"
      ],
      "metadata": {
        "id": "NXQqYY0H-p3E"
      }
    },
    {
      "cell_type": "markdown",
      "source": [
        "### Note\n",
        "Python uses order of operations (\"PEMDAS\"), so `y/x+z` is treated as `(y/x)+z`.<br>\n",
        "See if you can predict how the following two commands will give different outputs:"
      ],
      "metadata": {
        "id": "xQptu1pl_jIM"
      }
    },
    {
      "cell_type": "code",
      "source": [
        "print(y/x+z)\n",
        "print(y/(x+z))"
      ],
      "metadata": {
        "id": "6v2yRvXo_45f"
      },
      "execution_count": null,
      "outputs": []
    },
    {
      "cell_type": "markdown",
      "source": [
        "Finally, remember that our variable names are arbitrary:"
      ],
      "metadata": {
        "id": "GJtkTGC1_-8G"
      }
    },
    {
      "cell_type": "code",
      "source": [
        "one = 2\n",
        "two = 1\n",
        "three = one*one + two\n",
        "print(one)\n",
        "print(two)\n",
        "print(three)"
      ],
      "metadata": {
        "id": "E34abCBzABkN"
      },
      "execution_count": null,
      "outputs": []
    },
    {
      "cell_type": "markdown",
      "source": [
        "# 3 Strings\n",
        "Strings are just sequences of characters."
      ],
      "metadata": {
        "id": "j079hgki7VrX"
      }
    },
    {
      "cell_type": "code",
      "source": [
        "print(\"x\")\n",
        "print(\"hello\")\n",
        "print(\"     oh      no    _ ! %%% ^ woah!!!\")"
      ],
      "metadata": {
        "id": "G3UKIZyzAfqt"
      },
      "execution_count": null,
      "outputs": []
    },
    {
      "cell_type": "markdown",
      "source": [
        "Note that they are case sensitive, so \"A\" is different from \"a\"."
      ],
      "metadata": {
        "id": "-ZOW30O5AgEr"
      }
    },
    {
      "cell_type": "code",
      "source": [
        "print(\"HeLlO!\")"
      ],
      "metadata": {
        "id": "FWdUBa0MAgqA"
      },
      "execution_count": null,
      "outputs": []
    },
    {
      "cell_type": "markdown",
      "source": [
        "Python does not distinguish between single quotes `'` and double quotes `\"`."
      ],
      "metadata": {
        "id": "nDNI9h2DFFyt"
      }
    },
    {
      "cell_type": "markdown",
      "source": [
        "There are some special things that affect what `print()` does. The special character `\\n` cause a line break, and the special character `\\t` causes tab spacing."
      ],
      "metadata": {
        "id": "7N_11f62Ag6e"
      }
    },
    {
      "cell_type": "code",
      "source": [
        "print(\"ONE\\tTWO\\n1\\t2\")"
      ],
      "metadata": {
        "id": "7BZL82MqAxk0"
      },
      "execution_count": null,
      "outputs": []
    },
    {
      "cell_type": "markdown",
      "source": [
        "Python can do things to strings, kind of like how it can do things to numbers.<br>\n",
        "It can combine strings with '+', for example:"
      ],
      "metadata": {
        "id": "pechZZsxAyL4"
      }
    },
    {
      "cell_type": "code",
      "source": [
        "print(\"bo\")\n",
        "print(\"ok\")\n",
        "print(\"bo\"+\"ok\") # Notice that 'str+str' is different from 'int+int'."
      ],
      "metadata": {
        "id": "U4TvNvMWA3q6"
      },
      "execution_count": null,
      "outputs": []
    },
    {
      "cell_type": "markdown",
      "source": [
        "It can also tell you how long a string is:"
      ],
      "metadata": {
        "id": "t30xulhsA9pI"
      }
    },
    {
      "cell_type": "code",
      "source": [
        "print(len(\"bo\"))\n",
        "print(len(\"bo\"+\"ok\"))"
      ],
      "metadata": {
        "id": "oYPnUbGyA_OO"
      },
      "execution_count": null,
      "outputs": []
    },
    {
      "cell_type": "markdown",
      "source": [
        "It can also tell you whether a given string is \"in\" another string:"
      ],
      "metadata": {
        "id": "iKV4NZGMBA0U"
      }
    },
    {
      "cell_type": "code",
      "source": [
        "print(\"oo\" in \"book\") # Note how boolean 'True' gets spit out here\n",
        "print(\"bk\" in \"book\") # Note how boolean 'False' gets spit out here"
      ],
      "metadata": {
        "id": "G9rw1vOXBDWB"
      },
      "execution_count": null,
      "outputs": []
    },
    {
      "cell_type": "markdown",
      "source": [
        "It can also give you \"substrings\" like this:"
      ],
      "metadata": {
        "id": "D2nm_83qBJbj"
      }
    },
    {
      "cell_type": "code",
      "source": [
        "print(\"book\"[0])        # Note how position starts at 0 on the left\n",
        "print(\"book\"[1])        # so '1' is the second position\n",
        "print(\"book\"[0:2])      # Note how the range is inclusive start, exclusive end\n",
        "print(\"book\"[-1])       # Note how position starts at -1 on the right\n",
        "print(\"book\"[1:-1])"
      ],
      "metadata": {
        "id": "09hlXbJTBL2f"
      },
      "execution_count": null,
      "outputs": []
    },
    {
      "cell_type": "markdown",
      "source": [
        "<b>Practice:</b>\n",
        "\n",
        "The code block below creates a variable for the string `'elephant'`.<br>\n",
        "Add a line to the code block that prints out the substring `'eph'`. <br>\n",
        "(use brackets as shown above!)"
      ],
      "metadata": {
        "id": "M0leFhBGxbVI"
      }
    },
    {
      "cell_type": "code",
      "source": [
        "large_animal = 'elephant'"
      ],
      "metadata": {
        "id": "VxQwwaUFyO5q"
      },
      "execution_count": null,
      "outputs": []
    },
    {
      "cell_type": "markdown",
      "source": [
        "# 4 Lists\n",
        "A list is just a collection of things in some order.<br>\n",
        "It can be any kind of thing.<br>\n",
        "Here, it's useful to just start using variables liberally:"
      ],
      "metadata": {
        "id": "rYUqnk8FAkNW"
      }
    },
    {
      "cell_type": "code",
      "source": [
        "fruits = [\"apple\", \"orange\", \"lemon\", \"pear\"]\n",
        "print(fruits)"
      ],
      "metadata": {
        "id": "TwWLXPOaB2th"
      },
      "execution_count": null,
      "outputs": []
    },
    {
      "cell_type": "code",
      "source": [
        "vegetables = [\"carrot\", \"tomato\", \"broccoli\", \"cucumber\"]\n",
        "print(vegetables)"
      ],
      "metadata": {
        "id": "XcRPMrBVCWT4"
      },
      "execution_count": null,
      "outputs": []
    },
    {
      "cell_type": "code",
      "source": [
        "primes_up_to_25 = [2, 3, 5, 7, 11, 13, 17, 19, 23]\n",
        "print(primes_up_to_25)"
      ],
      "metadata": {
        "id": "G4MMDFvRCWtd"
      },
      "execution_count": null,
      "outputs": []
    },
    {
      "cell_type": "code",
      "source": [
        "random_things = [\"bonanza\", -109.63, True, \"True\", \"-109.63\"]\n",
        "print(random_things)"
      ],
      "metadata": {
        "id": "4fDv3sn9CaDa"
      },
      "execution_count": null,
      "outputs": []
    },
    {
      "cell_type": "markdown",
      "source": [
        "You can do a lot of the same things to lists as to strings:"
      ],
      "metadata": {
        "id": "y0zS53GpB3Re"
      }
    },
    {
      "cell_type": "code",
      "source": [
        "print(len(fruits))\n",
        "print(vegetables + fruits)\n",
        "print(\"apple\" in vegetables)\n",
        "print(fruits[0])\n",
        "print(vegetables[2:]) # Worth noting that you can use this notation\n",
        "                      # to go to the end of the list"
      ],
      "metadata": {
        "id": "86ItqvA2B3xN"
      },
      "execution_count": null,
      "outputs": []
    },
    {
      "cell_type": "markdown",
      "source": [
        "One important difference (between lists and strings) is you can add things to lists like this:"
      ],
      "metadata": {
        "id": "kHFoZQ4CB4DZ"
      }
    },
    {
      "cell_type": "code",
      "source": [
        "fruits.append(\"mango\")"
      ],
      "metadata": {
        "id": "KM-q09IoB4nO"
      },
      "execution_count": null,
      "outputs": []
    },
    {
      "cell_type": "markdown",
      "source": [
        "And remove them like this:"
      ],
      "metadata": {
        "id": "4scybSn3Cw7m"
      }
    },
    {
      "cell_type": "code",
      "source": [
        "fruits.remove(\"pear\")\n",
        "print(fruits)           # Note how these operations actually update the variable"
      ],
      "metadata": {
        "id": "KdDHb0zTCyWP"
      },
      "execution_count": null,
      "outputs": []
    },
    {
      "cell_type": "markdown",
      "source": [
        "Also, you can turn a string into a list with `split()` like this:"
      ],
      "metadata": {
        "id": "N4h6wbdUC3__"
      }
    },
    {
      "cell_type": "code",
      "source": [
        "sentence = \"I am very glad to see you here\"\n",
        "print(sentence.split())"
      ],
      "metadata": {
        "id": "6a0Y7zETC-qa"
      },
      "execution_count": null,
      "outputs": []
    },
    {
      "cell_type": "markdown",
      "source": [
        "If you put something in the parentheses of `split()`, you can separate at something other than spaces:"
      ],
      "metadata": {
        "id": "2I9oSte6C_fc"
      }
    },
    {
      "cell_type": "code",
      "source": [
        "sentence = \"This is important: I don't think you should stay\"\n",
        "print(sentence.split(\": \"))"
      ],
      "metadata": {
        "id": "-X0m0yFXDH83"
      },
      "execution_count": null,
      "outputs": []
    },
    {
      "cell_type": "markdown",
      "source": [
        "Finally, if you have a list of numbers, you can quickly calculate the sum of all of them using the `sum()` function:"
      ],
      "metadata": {
        "id": "D2GnUYFuD8Tb"
      }
    },
    {
      "cell_type": "code",
      "source": [
        "numbers = [1, 10, 100]\n",
        "print(sum(numbers))"
      ],
      "metadata": {
        "id": "8Oe1FNxlEAjJ"
      },
      "execution_count": null,
      "outputs": []
    },
    {
      "cell_type": "markdown",
      "source": [
        "<b>Practice:</b>\n",
        "\n",
        "The code block below creates a variable for the string `'1:2:3:4:5:6:7:8:9:10'`.<br>\n",
        "Add lines to this code block to turn it into the list `['1', '2', '3', '4', '5', '6', '7', '8', '9', '10']`.<br>\n",
        "(Use the `.split()` method! You'll want to put the character `\":\"` inside `.split()`, like this: `.split(\":\")`.)\n",
        "\n",
        "Then, try using `sum()` to add up all the numbers in the list.<br>\n",
        "This won't work. Why not?"
      ],
      "metadata": {
        "id": "zxmAm3leya9J"
      }
    },
    {
      "cell_type": "code",
      "source": [
        "number_string = '1:2:3:4:5:6:7:8:9:10'"
      ],
      "metadata": {
        "id": "SKda4c3ezTHN"
      },
      "execution_count": null,
      "outputs": []
    },
    {
      "cell_type": "markdown",
      "source": [
        "# 5 <i>If</i>-statements\n",
        "So, some of the familiar math operations take numbers as inputs and give numbers as outputs.\n",
        "\n",
        "But we also have `>`, `<`, and `==`.<br>\n",
        "These take numbers as inputs and give `True` or `False` as outputs!"
      ],
      "metadata": {
        "id": "xP308SnIB49j"
      }
    },
    {
      "cell_type": "code",
      "source": [
        "print(1>2)\n",
        "print(1<2)\n",
        "print(1==2) # Note: '==' is the math operation; '=' is variable assignment!"
      ],
      "metadata": {
        "id": "5HYxiOEMCAMt"
      },
      "execution_count": null,
      "outputs": []
    },
    {
      "cell_type": "markdown",
      "source": [
        "We also saw that `in` gives a boolean output for strings and lists:"
      ],
      "metadata": {
        "id": "dx9oSmrdDOYt"
      }
    },
    {
      "cell_type": "code",
      "source": [
        "print(\"who\" in \"who is that?\")\n",
        "print(\"who\" in [1, 2, 3, 4])"
      ],
      "metadata": {
        "id": "X6pLKuzNDNc7"
      },
      "execution_count": null,
      "outputs": []
    },
    {
      "cell_type": "markdown",
      "source": [
        "Booleans are important for '<i>if</i>-statements', a very powerful tool for scripting.<br>\n",
        "Run the code block below, then try modifying the value of `x` and running the block again. What value would you have to set `x` to in order to get this code block to say `x is bigger than 10`?"
      ],
      "metadata": {
        "id": "w5dCWcyMDPaT"
      }
    },
    {
      "cell_type": "code",
      "source": [
        "x = 1\n",
        "if x > 10:                      # Note the colon\n",
        "    print(x, \"is bigger than 10\")   # Note the indent\n",
        "else:\n",
        "    print(x, \"is smaller than 10\")"
      ],
      "metadata": {
        "id": "3q3kX5dkDP2j"
      },
      "execution_count": null,
      "outputs": []
    },
    {
      "cell_type": "markdown",
      "source": [
        "Here's another example. Note that `%` is another math operator (like `+`, `/`, etc.). `%` stands for \"modulo,\" which gives you the remainder of division. So for a number *x* that divides evenly into another number *y*, `x % y` will give you `0`. But something like `4 % 7` would give you `3`, and `5 % 11` would give you `1`, etc. \n"
      ],
      "metadata": {
        "id": "CH6xgnqkFQSl"
      }
    },
    {
      "cell_type": "code",
      "source": [
        "x = 495104532\n",
        "if x % 2 == 0: # We're saying here, \"if 2 divides evenly into x,\" or \"if x is a multiple of 2.\"\"\n",
        "    y = \"even\"\n",
        "else:\n",
        "    y = \"odd\"\n",
        "print(x, \"is an\", y, \"number\")"
      ],
      "metadata": {
        "id": "BPDwTs4SFSzG"
      },
      "execution_count": null,
      "outputs": []
    },
    {
      "cell_type": "markdown",
      "source": [
        "<b>Practice 1:</b><br>\n",
        "Use the code block below to \n",
        "- Create a variable `word = \"test\"`\n",
        "- Write an *if*-statement that \n",
        "  - Prints one thing if the word has 4 letters in it\n",
        "  - Prints something else if it doesn't have 4 letters in it\n",
        "- Then try changing the value of the `word` variable, and re-running the code block to get a different result."
      ],
      "metadata": {
        "id": "IKRb4itDFV1j"
      }
    },
    {
      "cell_type": "code",
      "source": [],
      "metadata": {
        "id": "jbeIn_cSDiNz"
      },
      "execution_count": null,
      "outputs": []
    },
    {
      "cell_type": "markdown",
      "source": [
        "<b>Practice 2:</b><br>\n",
        "Use the code block below to\n",
        "- Create a variable `word = \"test\"`\n",
        "- Write an *if*-statement that\n",
        "  - Prints the 5th letter of the word, if the word has more than 4 letters,\n",
        "  - And prints something else othewise (remember, you can get the length of a string using the `len()` function)."
      ],
      "metadata": {
        "id": "qlcteTjVAYFg"
      }
    },
    {
      "cell_type": "code",
      "source": [
        "x = \"discovery\"\n",
        "if len(x) > 4:\n",
        "    print(\"The fifth letter of\",x,\"is\",x[4])\n",
        "else:\n",
        "    print(\"Uh-oh!\",x,\"doesn't have a fifth letter!\")"
      ],
      "metadata": {
        "id": "8-2thvv0Fa2h"
      },
      "execution_count": null,
      "outputs": []
    },
    {
      "cell_type": "markdown",
      "source": [
        "# 6 <i>For</i>-loops\n",
        "This is where things get really interesting. Suppose we have a list `fruits` containing strings for a bunch of different fruits. And suppose we want to print out each item from the list. One way to do that is to simply say `print(fruits)`. But, that's not exactly what we want. We want to print each *individual fruit*, not the whole list. That is, we want something like this:\n",
        "```\n",
        "'apple'\n",
        "'orange'\n",
        "'lemon'\n",
        "'mango'\n",
        "```\n",
        "Run the code block below, and compare the output you get to the desired result above."
      ],
      "metadata": {
        "id": "2iM_2jOSB5mY"
      }
    },
    {
      "cell_type": "code",
      "source": [
        "print(fruits)"
      ],
      "metadata": {
        "id": "MVYh3WtK9XZ0"
      },
      "execution_count": null,
      "outputs": []
    },
    {
      "cell_type": "markdown",
      "source": [
        "For a list of four fruits, maybe this method isn't so bad. But imagine we have a long list of a ton of different fruits, like this:"
      ],
      "metadata": {
        "id": "TrXIzhU49aDh"
      }
    },
    {
      "cell_type": "code",
      "source": [
        "longfruits = ['açaí', 'apple', 'apricot', 'avocado', 'banana', 'blackberry', 'blueberry', 'boysenberry', 'cherry', \\\n",
        "              'cranberry', 'currant', 'date', 'dragonfruit', 'durian', 'elderberry', 'fig', 'grape', 'grapefruit', \\\n",
        "              'guava', 'kiwi', 'kumquat', 'lemon', 'lime', 'lychee', 'mango', 'canteloupe', 'honeydew melon', 'watermelon', \\\n",
        "              'mulberry', 'nectarine', 'clementine', 'mandarine', 'orange', 'tangerine', 'papaya', 'passionfruit', 'pawpaw', \\\n",
        "              'peach', 'pear', 'persimmon', 'plum', 'pineapple', 'pomegranate', 'quince', 'raspberry', 'star fruit', 'strawberry', 'yuzu'] # Note: the character \\ lets you put in a line break"
      ],
      "metadata": {
        "id": "-2TZnYD49leI"
      },
      "execution_count": null,
      "outputs": []
    },
    {
      "cell_type": "markdown",
      "source": [
        "Try the same simple `print()` technique on this longer list of fruits. Does this do an adequate job?"
      ],
      "metadata": {
        "id": "T9ZfKuM5-54I"
      }
    },
    {
      "cell_type": "code",
      "source": [
        "print(longfruits)"
      ],
      "metadata": {
        "id": "370SVNBj_Akb"
      },
      "execution_count": null,
      "outputs": []
    },
    {
      "cell_type": "markdown",
      "source": [
        "What we really want is to print out *each individual fruit* from the list. One way to do that is to write out a separate `print()` statement for each item in the `fruits` list individually:"
      ],
      "metadata": {
        "id": "IVEq4Uv9_EDe"
      }
    },
    {
      "cell_type": "code",
      "source": [
        "print(fruits[0]) # == print('apple')\n",
        "print(fruits[1]) # == print('orange')\n",
        "print(fruits[2]) # == print('lemon')\n",
        "print(fruits[3]) # == print('mango')"
      ],
      "metadata": {
        "id": "XtLSnLyK_7v8"
      },
      "execution_count": null,
      "outputs": []
    },
    {
      "cell_type": "markdown",
      "source": [
        "But, clearly, that's not scalable: it becomes less and less practical the longer our list is. Doing this for the `longfruits` list would be a huge pain, for example. (We'd have to write out 48 different `print()` lines!)\n",
        "\n",
        "Fortunately, Python gives us a shortcut that we can use to easily solve this problem. Basically, we can tell Python, \"I want to do something over and over again\" (e.g., we want to print something from the fruits list over and over), \"but I don't want to write it out every time. So, instead, I want you to create a variable\" (call it `fruit`, perhaps) \"and set that variable equal to the first element in the `fruits` list. Do the thing I want,\" (i.e. print) \"then set the `fruit` variable equal to the *second* item in `fruits`, do the thing, then make it the *third* item in `fruits, etc etc.\"\n",
        "\n",
        "Here's what that looks like:"
      ],
      "metadata": {
        "id": "QAdaWOnuAHcJ"
      }
    },
    {
      "cell_type": "code",
      "source": [
        "for fruit in fruits:\n",
        "    print(fruit)"
      ],
      "metadata": {
        "id": "2G5Zn56dB-Qi"
      },
      "execution_count": null,
      "outputs": []
    },
    {
      "cell_type": "markdown",
      "source": [
        "Basically, you take something that has multiple parts, and you run through each part of that object. If it's a list, you run through each item in the list, in order. That's what `for fruit in fruits` and `for vegetable in vegetables` is saying above. Notice that the second part, i.e. `fruits` and `vegetables` refer to lists that we defined above. But the `x in` part is arbitrary. We could just as easily have said `for f in fruits`, or `for x in fruits`, or even `for supercalifragilisticexpialidocious in fruits`. Totally arbitrary. It's just good practice to use a label that's meaningfully transparent."
      ],
      "metadata": {
        "id": "hDp7ZxEnaj0u"
      }
    },
    {
      "cell_type": "code",
      "source": [
        "for f in fruits:\n",
        "    print(f)"
      ],
      "metadata": {
        "id": "AvxZmbPibSnJ"
      },
      "execution_count": null,
      "outputs": []
    },
    {
      "cell_type": "markdown",
      "source": [
        "Again, what the *for*-loop does is create a variable that Python assigns to each item in an iterable (in this case, a list `fruits`). The code block above is just like doing this:"
      ],
      "metadata": {
        "id": "zRxdiyaWA_ac"
      }
    },
    {
      "cell_type": "code",
      "source": [
        "f = fruits[0] # Let f be the first item in fruits\n",
        "print(f)\n",
        "f = fruits[1] # Let f be the second item in fruits\n",
        "print(f)\n",
        "f = fruits[2] # Let f be the third item in fruits\n",
        "print(f)\n",
        "f = fruits[3] # Let f be the fourth item in fruits\n",
        "print(f)"
      ],
      "metadata": {
        "id": "ojg8Z-sIBRRQ"
      },
      "execution_count": null,
      "outputs": []
    },
    {
      "cell_type": "markdown",
      "source": [
        "The `for f in fruits:` line abbreviates all the structured repetition. `for f in fruits:` says, \n",
        "- Let `f` be `fruits[0]`.\n",
        "  - Do the thing specified in the loop (`print(f)`)\n",
        "- Let `f` be `fruits[1]`.\n",
        "  - Do the thing specified in the loop again\n",
        "- Etc etc, for every item in `fruits`.\n",
        "\n",
        "Try writing your own loop to print out each item in the `longfruits` list:"
      ],
      "metadata": {
        "id": "h3TCSJQnBx8n"
      }
    },
    {
      "cell_type": "code",
      "source": [],
      "metadata": {
        "id": "vWA2kwhPCQYc"
      },
      "execution_count": null,
      "outputs": []
    },
    {
      "cell_type": "markdown",
      "source": [
        "If the loop is iterating over a string, you run through each character in the string in order. That's what `for letter in str:` means below. Then you give it something to do with each thing."
      ],
      "metadata": {
        "id": "xIOeJducbVf6"
      }
    },
    {
      "cell_type": "code",
      "source": [
        "for letter in \"preantepenultimate\":\n",
        "    print(letter)"
      ],
      "metadata": {
        "id": "aqUaY0-Abe-v"
      },
      "execution_count": null,
      "outputs": []
    },
    {
      "cell_type": "markdown",
      "source": [
        "Combined with <i>if</i>-statements, <i>for</i>-loops can be very powerful:\n"
      ],
      "metadata": {
        "id": "vLW65kMCbeN1"
      }
    },
    {
      "cell_type": "code",
      "source": [
        "for letter in \"preantepenultimate\":\n",
        "    if letter in \"aeiou\":\n",
        "        print(letter, \"is a vowel\")\n",
        "    else:\n",
        "        print(letter, \"is a consonant\")"
      ],
      "metadata": {
        "id": "penZCaAwfimc"
      },
      "execution_count": null,
      "outputs": []
    },
    {
      "cell_type": "markdown",
      "source": [
        "<b>PRACTICE 1:</b><br>\n",
        "In the code block below, write a *for*-loop that prints out the number of letters of each fruit name in the `fruits` list. Your code should do the same thing as the following block, but with a *for*-loop instead of all this repetition."
      ],
      "metadata": {
        "id": "RbfSTCqEEZh7"
      }
    },
    {
      "cell_type": "code",
      "source": [
        "f = fruits[0]\n",
        "print(f,\"is\",len(f),\"letters long\")\n",
        "f = fruits[1]\n",
        "print(f,\"is\",len(f),\"letters long\")\n",
        "f = fruits[2]\n",
        "print(f,\"is\",len(f),\"letters long\")\n",
        "f = fruits[3]\n",
        "print(f,\"is\",len(f),\"letters long\")"
      ],
      "metadata": {
        "id": "kGj4fFpJCM4C"
      },
      "execution_count": null,
      "outputs": []
    },
    {
      "cell_type": "markdown",
      "source": [
        "- The first line of your *for*-loop should consist of `for`, then a variable name of your choosing (I would pick `fruit` or `f`, personally), then `in`, then the list you're iterating over (i.e. `fruits`), then a colon `:`.\n",
        "- The body of the loop should be indented (which python should do automatically). Within the indented portion, write a line that prints the length of your variable (e.g., I would write `print(len(f))` or `print(len(fruit))`).\n",
        "  - It might be helpful to think about how you would print out the length of *the first* item in `fruits`, outside the context of a loop."
      ],
      "metadata": {
        "id": "CcgBzBTFCNeo"
      }
    },
    {
      "cell_type": "code",
      "source": [],
      "metadata": {
        "id": "8SDIzKKeD9H2"
      },
      "execution_count": null,
      "outputs": []
    },
    {
      "cell_type": "markdown",
      "source": [
        "<b>PRACTIE 2:</b><br>\n",
        "Some of the vegetables in the `vegetables` list have more than 7 letters in them, and some of them have less than 7 letters. Write a *for*-loop with an *if*-statement in it to sort out which vegetables are which.\n",
        "\n",
        "Your loop should basically do the following code block, but with a *for*-loop instead of repeating everything over and over.\n",
        "\n",
        "\n"
      ],
      "metadata": {
        "id": "q3HLAfsHHnon"
      }
    },
    {
      "cell_type": "code",
      "source": [
        "longveggies = []\n",
        "shortveggies = []\n",
        "\n",
        "v = vegetables[0]\n",
        "if len(v) > 7:\n",
        "  longveggies.append(v)\n",
        "else:\n",
        "  shortveggies.append(v)\n",
        "\n",
        "v = vegetables[1]\n",
        "if len(v) > 7:\n",
        "  longveggies.append(v)\n",
        "else:\n",
        "  shortveggies.append(v)\n",
        "\n",
        "v = vegetables[2]\n",
        "if len(v) > 7:\n",
        "  longveggies.append(v)\n",
        "else:\n",
        "  shortveggies.append(v)\n",
        "\n",
        "v = vegetables[3]\n",
        "if len(v) > 7:\n",
        "  longveggies.append(v)\n",
        "else:\n",
        "  shortveggies.append(v)\n",
        "\n",
        "print(longveggies, shortveggies)"
      ],
      "metadata": {
        "id": "k_rHInjJC3Is"
      },
      "execution_count": null,
      "outputs": []
    },
    {
      "cell_type": "markdown",
      "source": [
        "- Create an empty list called `longveggies`\n",
        "- Create another empty list called `shortveggies`\n",
        "- Write a *for*-loop with *if*-statements that add the appropriate vegetables to each list\n",
        "  - The first line of the loop should say `for vegetable in vegetables:`\n",
        "  - In the indented block of the loop, start with an *if*-statement that checks the length of each vegetable. If the length is more than 7, add the vegetable to the `longveggies` list. (use `.append()`!)\n",
        "  - Write an *else*-statement that adds the short vegetables to the `shortveggies` list."
      ],
      "metadata": {
        "id": "OuOPzohJC3i-"
      }
    },
    {
      "cell_type": "code",
      "source": [],
      "metadata": {
        "id": "n13HBRfGHnPm"
      },
      "execution_count": null,
      "outputs": []
    },
    {
      "cell_type": "markdown",
      "source": [
        "<b>PRACTICE 3:</b><br>\n",
        "Here is a list of states:\n",
        "```\n",
        "states = [\"WA\", \"NY\", \"CA\", \"OR\", \"NJ\", \"MA\"]\n",
        "```\n",
        "Some of these states are on the eastern coast of the US, and some are on the Western coast. The list below has this information in it:\n",
        "```\n",
        "coasts = [\"West\", \"East\", \"West\", \"West\", \"East\", \"East\"]\n",
        "```\n",
        "Note that the first state in the `states` list corresponds to the first \"coast\" in the `coasts` list: Washington in on the West coast. The second state in the `states` list corresponds to the second \"coast\" in the `coasts` list: New York is on the East coast. And so on.\n",
        "\n",
        "A really useful technique to use in *for*-loops is the `range()` function. It works like this: if you type this code:\n",
        "\n",
        "```python\n",
        "for x in range(3):\n",
        "  print(x)\n",
        "```\n",
        "\n",
        "You will get a list of 3 numbers, starting at 0:\n",
        "\n",
        "```python\n",
        "0\n",
        "1\n",
        "2\n",
        "```\n",
        "\n",
        "Notice that, since the `states` list is 6 items long, you could print the list like this:\n",
        "\n",
        "```python\n",
        "for x in range(6):\n",
        "  print(states[x])\n",
        "```\n",
        "\n",
        "And this will give you each state in the list, just as if you'd typed \n",
        "\n",
        "```python\n",
        "for x in states:\n",
        "  print(x)\n",
        "```\n",
        "\n",
        "Copy the `states` and `coasts` lists into the code block below. Then, write a *for*-loop that prints out which coast each state is on. The `range()` function will come in handy!"
      ],
      "metadata": {
        "id": "opZR2VRMEsvc"
      }
    },
    {
      "cell_type": "code",
      "source": [],
      "metadata": {
        "id": "xdz6znpwHmTg"
      },
      "execution_count": null,
      "outputs": []
    }
  ]
}